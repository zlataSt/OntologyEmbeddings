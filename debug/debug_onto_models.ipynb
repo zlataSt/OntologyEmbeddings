{
 "cells": [
  {
   "cell_type": "code",
   "execution_count": null,
   "metadata": {
    "collapsed": true
   },
   "outputs": [],
   "source": [
    "from joie.models import BaseEmbeddingModel\n",
    "import torch\n",
    "import torch.nn as nn\n",
    "import torch.optim as optim"
   ]
  },
  {
   "cell_type": "code",
   "execution_count": null,
   "outputs": [],
   "source": [
    "model = BaseEmbeddingModel(num_entities, num_relations, embedding_dim)\n",
    "loss_fn = nn.MarginRankingLoss(margin=1.0)\n",
    "optimizer = optim.Adam(model.parameters(), lr=0.001)"
   ],
   "metadata": {
    "collapsed": false
   }
  },
  {
   "cell_type": "code",
   "execution_count": 1,
   "outputs": [
    {
     "name": "stderr",
     "output_type": "stream",
     "text": [
      "* Owlready2 * Warning: optimized Cython parser module 'owlready2_optimized' is not available, defaulting to slower Python implementation\n"
     ]
    }
   ],
   "source": [
    "import owlready2 as owl"
   ],
   "metadata": {
    "collapsed": false,
    "ExecuteTime": {
     "start_time": "2023-05-07T15:05:02.402534Z",
     "end_time": "2023-05-07T15:05:02.580897Z"
    }
   }
  },
  {
   "cell_type": "code",
   "execution_count": 2,
   "outputs": [
    {
     "name": "stderr",
     "output_type": "stream",
     "text": [
      "* Owlready2 * WARNING: ObjectProperty http://dbpedia.org/ontology/senator belongs to more than one entity types: [owl.ObjectProperty, dbpedia.MemberOfParliament, DUL.sameSettingAs]; I'm trying to fix it...\n",
      "* Owlready2 * WARNING: ObjectProperty http://dbpedia.org/ontology/dfE belongs to more than one entity types: [owl.ObjectProperty, dbpedia.code]; I'm trying to fix it...\n",
      "* Owlready2 * WARNING: ObjectProperty http://dbpedia.org/ontology/politicGovernmentDepartment belongs to more than one entity types: [owl.ObjectProperty, dbpedia.Department, DUL.hasPart]; I'm trying to fix it...\n",
      "* Owlready2 * WARNING: ObjectProperty http://dbpedia.org/ontology/uRN belongs to more than one entity types: [owl.ObjectProperty, dbpedia.code]; I'm trying to fix it...\n",
      "* Owlready2 * WARNING: ObjectProperty http://dbpedia.org/ontology/simcCode belongs to more than one entity types: [owl.ObjectProperty, dbpedia.code]; I'm trying to fix it...\n",
      "* Owlready2 * WARNING: DataProperty http://dbpedia.org/ontology/productShape belongs to more than one entity types: [owl.DatatypeProperty, DUL.hasQuality]; I'm trying to fix it...\n",
      "* Owlready2 * WARNING: DataProperty http://dbpedia.org/ontology/latinName belongs to more than one entity types: [owl.DatatypeProperty, dbpedia.Name]; I'm trying to fix it...\n",
      "* Owlready2 * WARNING: DataProperty http://dbpedia.org/ontology/iso6391Code belongs to more than one entity types: [owl.DatatypeProperty, dbpedia.LanguageCode]; I'm trying to fix it...\n",
      "* Owlready2 * WARNING: DataProperty http://dbpedia.org/ontology/iso6393Code belongs to more than one entity types: [owl.DatatypeProperty, dbpedia.LanguageCode]; I'm trying to fix it...\n",
      "* Owlready2 * WARNING: DataProperty http://dbpedia.org/ontology/iso6392Code belongs to more than one entity types: [owl.DatatypeProperty, dbpedia.LanguageCode]; I'm trying to fix it...\n",
      "* Owlready2 * WARNING: DataProperty http://dbpedia.org/ontology/ingredientName belongs to more than one entity types: [owl.DatatypeProperty, DUL.hasPart]; I'm trying to fix it...\n",
      "* Owlready2 * WARNING: DataProperty http://dbpedia.org/ontology/greekName belongs to more than one entity types: [owl.DatatypeProperty, dbpedia.Name]; I'm trying to fix it...\n"
     ]
    }
   ],
   "source": [
    "owl_ontology = owl.get_ontology(\"dbpedia.owl\").load()"
   ],
   "metadata": {
    "collapsed": false,
    "ExecuteTime": {
     "start_time": "2023-05-07T15:07:42.093005Z",
     "end_time": "2023-05-07T15:07:43.822138Z"
    }
   }
  },
  {
   "cell_type": "code",
   "execution_count": 7,
   "outputs": [
    {
     "ename": "TypeError",
     "evalue": "metaclass conflict: the metaclass of a derived class must be a (non-strict) subclass of the metaclasses of all its bases",
     "output_type": "error",
     "traceback": [
      "\u001B[1;31m---------------------------------------------------------------------------\u001B[0m",
      "\u001B[1;31mTypeError\u001B[0m                                 Traceback (most recent call last)",
      "Cell \u001B[1;32mIn[7], line 1\u001B[0m\n\u001B[1;32m----> 1\u001B[0m \u001B[38;5;28;43mlist\u001B[39;49m\u001B[43m(\u001B[49m\u001B[43mowl_ontology\u001B[49m\u001B[38;5;241;43m.\u001B[39;49m\u001B[43mclasses\u001B[49m\u001B[43m(\u001B[49m\u001B[43m)\u001B[49m\u001B[43m)\u001B[49m\n",
      "File \u001B[1;32m~\\AppData\\Local\\Programs\\Python\\Python310\\lib\\site-packages\\owlready2\\namespace.py:288\u001B[0m, in \u001B[0;36m_GraphManager.classes\u001B[1;34m(self)\u001B[0m\n\u001B[0;32m    286\u001B[0m \u001B[38;5;28;01mdef\u001B[39;00m \u001B[38;5;21mclasses\u001B[39m(\u001B[38;5;28mself\u001B[39m):\n\u001B[0;32m    287\u001B[0m   \u001B[38;5;28;01mfor\u001B[39;00m s \u001B[38;5;129;01min\u001B[39;00m \u001B[38;5;28mself\u001B[39m\u001B[38;5;241m.\u001B[39m_get_obj_triples_po_s(rdf_type, owl_class):\n\u001B[1;32m--> 288\u001B[0m     \u001B[38;5;28;01mif\u001B[39;00m \u001B[38;5;129;01mnot\u001B[39;00m s \u001B[38;5;241m<\u001B[39m \u001B[38;5;241m0\u001B[39m: \u001B[38;5;28;01myield\u001B[39;00m \u001B[38;5;28;43mself\u001B[39;49m\u001B[38;5;241;43m.\u001B[39;49m\u001B[43mworld\u001B[49m\u001B[38;5;241;43m.\u001B[39;49m\u001B[43m_get_by_storid\u001B[49m\u001B[43m(\u001B[49m\u001B[43ms\u001B[49m\u001B[43m)\u001B[49m\n",
      "File \u001B[1;32m~\\AppData\\Local\\Programs\\Python\\Python310\\lib\\site-packages\\owlready2\\namespace.py:688\u001B[0m, in \u001B[0;36mWorld._get_by_storid\u001B[1;34m(self, storid, full_iri, main_type, main_onto, trace, default_to_none)\u001B[0m\n\u001B[0;32m    685\u001B[0m \u001B[38;5;28;01mif\u001B[39;00m \u001B[38;5;129;01mnot\u001B[39;00m entity \u001B[38;5;129;01mis\u001B[39;00m \u001B[38;5;28;01mNone\u001B[39;00m: \u001B[38;5;28;01mreturn\u001B[39;00m entity\n\u001B[0;32m    687\u001B[0m \u001B[38;5;28;01mtry\u001B[39;00m:\n\u001B[1;32m--> 688\u001B[0m   \u001B[38;5;28;01mreturn\u001B[39;00m \u001B[38;5;28;43mself\u001B[39;49m\u001B[38;5;241;43m.\u001B[39;49m\u001B[43m_load_by_storid\u001B[49m\u001B[43m(\u001B[49m\u001B[43mstorid\u001B[49m\u001B[43m,\u001B[49m\u001B[43m \u001B[49m\u001B[43mfull_iri\u001B[49m\u001B[43m,\u001B[49m\u001B[43m \u001B[49m\u001B[43mmain_type\u001B[49m\u001B[43m,\u001B[49m\u001B[43m \u001B[49m\u001B[43mmain_onto\u001B[49m\u001B[43m,\u001B[49m\u001B[43m \u001B[49m\u001B[43mdefault_to_none\u001B[49m\u001B[43m)\u001B[49m\n\u001B[0;32m    689\u001B[0m \u001B[38;5;28;01mexcept\u001B[39;00m \u001B[38;5;167;01mRecursionError\u001B[39;00m:\n\u001B[0;32m    690\u001B[0m   \u001B[38;5;28;01mreturn\u001B[39;00m \u001B[38;5;28mself\u001B[39m\u001B[38;5;241m.\u001B[39m_load_by_storid(storid, full_iri, main_type, main_onto, default_to_none, ())\n",
      "File \u001B[1;32m~\\AppData\\Local\\Programs\\Python\\Python310\\lib\\site-packages\\owlready2\\namespace.py:773\u001B[0m, in \u001B[0;36mWorld._load_by_storid\u001B[1;34m(self, storid, full_iri, main_type, main_onto, default_to_none, trace)\u001B[0m\n\u001B[0;32m    771\u001B[0m \u001B[38;5;28;01mif\u001B[39;00m   main_type \u001B[38;5;129;01mis\u001B[39;00m ThingClass:\n\u001B[0;32m    772\u001B[0m   types \u001B[38;5;241m=\u001B[39m \u001B[38;5;28mtuple\u001B[39m(is_a_entities) \u001B[38;5;129;01mor\u001B[39;00m (Thing,)\n\u001B[1;32m--> 773\u001B[0m   entity \u001B[38;5;241m=\u001B[39m \u001B[43mThingClass\u001B[49m\u001B[43m(\u001B[49m\u001B[43mname\u001B[49m\u001B[43m,\u001B[49m\u001B[43m \u001B[49m\u001B[43mtypes\u001B[49m\u001B[43m,\u001B[49m\u001B[43m \u001B[49m\u001B[43m{\u001B[49m\u001B[43m \u001B[49m\u001B[38;5;124;43m\"\u001B[39;49m\u001B[38;5;124;43mnamespace\u001B[39;49m\u001B[38;5;124;43m\"\u001B[39;49m\u001B[43m \u001B[49m\u001B[43m:\u001B[49m\u001B[43m \u001B[49m\u001B[43mnamespace\u001B[49m\u001B[43m,\u001B[49m\u001B[43m \u001B[49m\u001B[38;5;124;43m\"\u001B[39;49m\u001B[38;5;124;43mstorid\u001B[39;49m\u001B[38;5;124;43m\"\u001B[39;49m\u001B[43m \u001B[49m\u001B[43m:\u001B[49m\u001B[43m \u001B[49m\u001B[43mstorid\u001B[49m\u001B[43m \u001B[49m\u001B[43m}\u001B[49m\u001B[43m \u001B[49m\u001B[43m)\u001B[49m\n\u001B[0;32m    775\u001B[0m \u001B[38;5;28;01melif\u001B[39;00m main_type \u001B[38;5;129;01mis\u001B[39;00m ObjectPropertyClass:\n\u001B[0;32m    776\u001B[0m   \u001B[38;5;28;01mtry\u001B[39;00m:\n",
      "File \u001B[1;32m~\\AppData\\Local\\Programs\\Python\\Python310\\lib\\site-packages\\owlready2\\entity.py:144\u001B[0m, in \u001B[0;36mEntityClass.__new__\u001B[1;34m(MetaClass, name, superclasses, obj_dict)\u001B[0m\n\u001B[0;32m    135\u001B[0m _is_a \u001B[38;5;241m=\u001B[39m CallbackList(_is_a, \u001B[38;5;28;01mNone\u001B[39;00m, MetaClass\u001B[38;5;241m.\u001B[39m_class_is_a_changed)\n\u001B[0;32m    136\u001B[0m obj_dict\u001B[38;5;241m.\u001B[39mupdate(\n\u001B[0;32m    137\u001B[0m   _name          \u001B[38;5;241m=\u001B[39m name,\n\u001B[0;32m    138\u001B[0m   namespace      \u001B[38;5;241m=\u001B[39m namespace,\n\u001B[1;32m   (...)\u001B[0m\n\u001B[0;32m    141\u001B[0m   _equivalent_to \u001B[38;5;241m=\u001B[39m \u001B[38;5;28;01mNone\u001B[39;00m,\n\u001B[0;32m    142\u001B[0m )\n\u001B[1;32m--> 144\u001B[0m Class \u001B[38;5;241m=\u001B[39m namespace\u001B[38;5;241m.\u001B[39mworld\u001B[38;5;241m.\u001B[39m_entities[storid] \u001B[38;5;241m=\u001B[39m _is_a\u001B[38;5;241m.\u001B[39m_obj \u001B[38;5;241m=\u001B[39m \u001B[38;5;28;43mtype\u001B[39;49m\u001B[38;5;241;43m.\u001B[39;49m\u001B[38;5;21;43m__new__\u001B[39;49m\u001B[43m(\u001B[49m\u001B[43mMetaClass\u001B[49m\u001B[43m,\u001B[49m\u001B[43m \u001B[49m\u001B[43mname\u001B[49m\u001B[43m,\u001B[49m\u001B[43m \u001B[49m\u001B[43msuperclasses\u001B[49m\u001B[43m,\u001B[49m\u001B[43m \u001B[49m\u001B[43mobj_dict\u001B[49m\u001B[43m)\u001B[49m\n\u001B[0;32m    145\u001B[0m _cache_entity(Class)\n\u001B[0;32m    147\u001B[0m \u001B[38;5;28;01mif\u001B[39;00m \u001B[38;5;129;01mnot\u001B[39;00m LOADING:\n",
      "\u001B[1;31mTypeError\u001B[0m: metaclass conflict: the metaclass of a derived class must be a (non-strict) subclass of the metaclasses of all its bases"
     ]
    }
   ],
   "source": [
    "list(owl_ontology.classes())"
   ],
   "metadata": {
    "collapsed": false,
    "ExecuteTime": {
     "start_time": "2023-05-07T15:10:55.671844Z",
     "end_time": "2023-05-07T15:10:55.717683Z"
    }
   }
  },
  {
   "cell_type": "code",
   "execution_count": 9,
   "outputs": [],
   "source": [
    "from owlready2 import get_ontology\n",
    "onto = get_ontology(\"http://test.org/onto.owl\")"
   ],
   "metadata": {
    "collapsed": false,
    "ExecuteTime": {
     "start_time": "2023-05-07T15:12:46.799466Z",
     "end_time": "2023-05-07T15:12:46.820373Z"
    }
   }
  },
  {
   "cell_type": "code",
   "execution_count": 11,
   "outputs": [],
   "source": [
    "from owlready2 import Thing, FunctionalProperty\n",
    "with onto:\n",
    "    class Drug(Thing):\n",
    "        def get_per_tablet_cost(self):\n",
    "            return self.cost / self.number_of_tablets\n",
    "\n",
    "    class has_for_cost(Drug >> float, FunctionalProperty):\n",
    "        python_name = \"cost\"\n",
    "    class has_for_number_of_tablets(Drug >> int, FunctionalProperty):\n",
    "        python_name = \"number_of_tablets\""
   ],
   "metadata": {
    "collapsed": false,
    "ExecuteTime": {
     "start_time": "2023-05-07T15:28:48.037023Z",
     "end_time": "2023-05-07T15:28:48.052726Z"
    }
   }
  },
  {
   "cell_type": "code",
   "execution_count": 12,
   "outputs": [],
   "source": [
    "my_drug = Drug(cost = 10.0, number_of_tablets = 5)"
   ],
   "metadata": {
    "collapsed": false,
    "ExecuteTime": {
     "start_time": "2023-05-07T15:29:12.651655Z",
     "end_time": "2023-05-07T15:29:12.659520Z"
    }
   }
  },
  {
   "cell_type": "code",
   "execution_count": 13,
   "outputs": [
    {
     "name": "stdout",
     "output_type": "stream",
     "text": [
      "2.0\n"
     ]
    }
   ],
   "source": [
    "print(my_drug.get_per_tablet_cost())"
   ],
   "metadata": {
    "collapsed": false,
    "ExecuteTime": {
     "start_time": "2023-05-07T15:29:27.628228Z",
     "end_time": "2023-05-07T15:29:27.679305Z"
    }
   }
  },
  {
   "cell_type": "code",
   "execution_count": 3,
   "outputs": [],
   "source": [
    "import sys\n",
    "sys.path.insert(0,'MSc')"
   ],
   "metadata": {
    "collapsed": false,
    "ExecuteTime": {
     "start_time": "2023-05-20T23:24:22.836461Z",
     "end_time": "2023-05-20T23:24:22.874742Z"
    }
   }
  },
  {
   "cell_type": "code",
   "execution_count": null,
   "outputs": [],
   "source": [
    "# import torchkge\n",
    "import torch\n",
    "from torchkge.data_structures import KnowledgeGraph,SmallKG\n",
    "import pandas as pd\n",
    "import numpy as np\n",
    "from torch import cuda\n",
    "import dill\n",
    "\n",
    "from embeddings import *\n",
    "\n",
    "from torchkge.utils import MarginLoss\n",
    "from torchkge.models.bilinear import DistMultModel, HolEModel\n",
    "from torchkge.models.translation import TransEModel\n",
    "from torchkge.evaluation import LinkPredictionEvaluator"
   ],
   "metadata": {
    "collapsed": false
   }
  },
  {
   "cell_type": "code",
   "execution_count": 4,
   "outputs": [],
   "source": [
    "from embeddings.Utils import to_structure_kg\n",
    "\n",
    "datasets = {data:\n",
    "    {\n",
    "        type_kg :\n",
    "            to_structure_kg(f'D:/MSc/data/{data}/{data}_{type_kg}.txt') for type_kg in ['insnet','ontonet','instype']\n",
    "    }\n",
    "    for data in ['db', 'yago']\n",
    "}"
   ],
   "metadata": {
    "collapsed": false,
    "ExecuteTime": {
     "start_time": "2023-05-20T23:25:39.159774Z",
     "end_time": "2023-05-20T23:27:23.130221Z"
    }
   }
  },
  {
   "cell_type": "code",
   "execution_count": null,
   "outputs": [],
   "source": [],
   "metadata": {
    "collapsed": false
   }
  }
 ],
 "metadata": {
  "kernelspec": {
   "display_name": "Python 3",
   "language": "python",
   "name": "python3"
  },
  "language_info": {
   "codemirror_mode": {
    "name": "ipython",
    "version": 2
   },
   "file_extension": ".py",
   "mimetype": "text/x-python",
   "name": "python",
   "nbconvert_exporter": "python",
   "pygments_lexer": "ipython2",
   "version": "2.7.6"
  }
 },
 "nbformat": 4,
 "nbformat_minor": 0
}
